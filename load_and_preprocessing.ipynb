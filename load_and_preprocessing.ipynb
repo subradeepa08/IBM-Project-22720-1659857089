{
  "nbformat": 4,
  "nbformat_minor": 0,
  "metadata": {
    "colab": {
      "provenance": [],
      "authorship_tag": "ABX9TyMyhN+Un/GwKe/B81rnA9el",
      "include_colab_link": true
    },
    "kernelspec": {
      "name": "python3",
      "display_name": "Python 3"
    },
    "language_info": {
      "name": "python"
    }
  },
  "cells": [
    {
      "cell_type": "markdown",
      "metadata": {
        "id": "view-in-github",
        "colab_type": "text"
      },
      "source": [
        "<a href=\"https://colab.research.google.com/github/subradeepa08/IBM-Project-22720-1659857089/blob/main/load_and_preprocessing.ipynb\" target=\"_parent\"><img src=\"https://colab.research.google.com/assets/colab-badge.svg\" alt=\"Open In Colab\"/></a>"
      ]
    },
    {
      "cell_type": "markdown",
      "source": [
        "# First, install the necessary libraries"
      ],
      "metadata": {
        "id": "jJasRty95fzl"
      }
    },
    {
      "cell_type": "markdown",
      "source": [
        "you can run the following command in google colab notebook to mount google drive.\n"
      ],
      "metadata": {
        "id": "jcjgtsVXx5lx"
      }
    },
    {
      "cell_type": "code",
      "source": [
        "\n",
        "from google.colab import drive\n",
        "drive.mount('/content/drive')"
      ],
      "metadata": {
        "colab": {
          "base_uri": "https://localhost:8080/"
        },
        "id": "8N1TkfAUhxuM",
        "outputId": "8b7cb593-e878-4fdf-e9ff-f8092db61226"
      },
      "execution_count": 1,
      "outputs": [
        {
          "output_type": "stream",
          "name": "stdout",
          "text": [
            "Mounted at /content/drive\n"
          ]
        }
      ]
    },
    {
      "cell_type": "code",
      "source": [
        "import pandas as pd\n",
        "data = pd.read_csv('/content/Folds.csv')"
      ],
      "metadata": {
        "id": "bKVCt2HZ5_tI"
      },
      "execution_count": null,
      "outputs": []
    },
    {
      "cell_type": "markdown",
      "source": [
        "You can see the content of dataset(present in google drive) by running the following terminal-like command\n"
      ],
      "metadata": {
        "id": "eY6NAN63xueh"
      }
    },
    {
      "cell_type": "code",
      "source": [
        "PATH_OF_DATA= '/content/drive/\"MyDrive\"/Dataset/adenosis'\n",
        "!ls {PATH_OF_DATA}"
      ],
      "metadata": {
        "colab": {
          "base_uri": "https://localhost:8080/"
        },
        "id": "0s8WLhzgxBJi",
        "outputId": "4b58e663-a1d7-4fbe-8446-440d7e461e8a"
      },
      "execution_count": null,
      "outputs": [
        {
          "output_type": "stream",
          "name": "stdout",
          "text": [
            "100X  200X  400X  40X\n"
          ]
        }
      ]
    },
    {
      "cell_type": "markdown",
      "source": [
        "Load the Data set"
      ],
      "metadata": {
        "id": "OXld1TM6oZen"
      }
    },
    {
      "cell_type": "code",
      "source": [
        "import os\n",
        "import cv2\n",
        "\n",
        "path = '/content/drive/MyDrive/Dataset/adenosis/40X'\n",
        "for filename in os.listdir(path):\n",
        "    img = cv2.imread(os.path.join(path, filename))\n",
        "path = '/content/drive/MyDrive/Dataset/adenosis/100X'\n",
        "for filename in os.listdir(path):\n",
        "    img = cv2.imread(os.path.join(path, filename))\n",
        "path = '/content/drive/MyDrive/Dataset/adenosis/200X'\n",
        "for filename in os.listdir(path):\n",
        "    img = cv2.imread(os.path.join(path, filename))\n",
        "path = '/content/drive/MyDrive/Dataset/adenosis/400X'\n",
        "for filename in os.listdir(path):\n",
        "    img = cv2.imread(os.path.join(path, filename))\n",
        "path = '/content/drive/MyDrive/Dataset/ductal_carcinoma/40X'\n",
        "for filename in os.listdir(path):\n",
        "    img = cv2.imread(os.path.join(path, filename))\n",
        "path = '/content/drive/MyDrive/Dataset/ductal_carcinoma/100X'\n",
        "for filename in os.listdir(path):\n",
        "    img = cv2.imread(os.path.join(path, filename))\n",
        "path = '/content/drive/MyDrive/Dataset/ductal_carcinoma/200X'\n",
        "for filename in os.listdir(path):\n",
        "    img = cv2.imread(os.path.join(path, filename))\n",
        "path = '/content/drive/MyDrive/Dataset/ductal_carcinoma/400X'\n",
        "for filename in os.listdir(path):\n",
        "    img = cv2.imread(os.path.join(path, filename))\n",
        "path = '/content/drive/MyDrive/Dataset/ductal_carcinoma/40X'\n",
        "for filename in os.listdir(path):\n",
        "    img = cv2.imread(os.path.join(path, filename))\n",
        "path = '/content/drive/MyDrive/Dataset/ductal_carcinoma/100X'\n",
        "for filename in os.listdir(path):\n",
        "    img = cv2.imread(os.path.join(path, filename))\n",
        "path = '/content/drive/MyDrive/Dataset/ductal_carcinoma/200X'\n",
        "for filename in os.listdir(path):\n",
        "    img = cv2.imread(os.path.join(path, filename))\n",
        "path = '/content/drive/MyDrive/Dataset/ductal_carcinoma/400X'\n",
        "for filename in os.listdir(path):\n",
        "    img = cv2.imread(os.path.join(path, filename))\n",
        "path = '/content/drive/MyDrive/Dataset/fibroadenoma/40X'\n",
        "for filename in os.listdir(path):\n",
        "    img = cv2.imread(os.path.join(path, filename))\n",
        "path = '/content/drive/MyDrive/Dataset/fibroadenoma/100X'\n",
        "for filename in os.listdir(path):\n",
        "    img = cv2.imread(os.path.join(path, filename))\n",
        "path = '/content/drive/MyDrive/Dataset/fibroadenoma/200X'\n",
        "for filename in os.listdir(path):\n",
        "    img = cv2.imread(os.path.join(path, filename))\n",
        "path = '/content/drive/MyDrive/Dataset/fibroadenoma/400X'\n",
        "for filename in os.listdir(path):\n",
        "    img = cv2.imread(os.path.join(path, filename))\n",
        "path = '/content/drive/MyDrive/Dataset/lobular_carcinoma/40X'\n",
        "for filename in os.listdir(path):\n",
        "    img = cv2.imread(os.path.join(path, filename))\n",
        "path = '/content/drive/MyDrive/Dataset/lobular_carcinoma/100X'\n",
        "for filename in os.listdir(path):\n",
        "    img = cv2.imread(os.path.join(path, filename))\n",
        "path = '/content/drive/MyDrive/Dataset/lobular_carcinoma/200X'\n",
        "for filename in os.listdir(path):\n",
        "    img = cv2.imread(os.path.join(path, filename))\n",
        "path = '/content/drive/MyDrive/Dataset/lobular_carcinoma/400X'\n",
        "for filename in os.listdir(path):\n",
        "    img = cv2.imread(os.path.join(path, filename))\n",
        "path = '/content/drive/MyDrive/Dataset/mucinous_carcinoma/40X'\n",
        "for filename in os.listdir(path):\n",
        "    img = cv2.imread(os.path.join(path, filename))\n",
        "path = '/content/drive/MyDrive/Dataset/mucinous_carcinoma/100X'\n",
        "for filename in os.listdir(path):\n",
        "    img = cv2.imread(os.path.join(path, filename))\n",
        "path = '/content/drive/MyDrive/Dataset/mucinous_carcinoma/200X'\n",
        "for filename in os.listdir(path):\n",
        "    img = cv2.imread(os.path.join(path, filename))\n",
        "path = '/content/drive/MyDrive/Dataset/mucinous_carcinoma/400X'\n",
        "for filename in os.listdir(path):\n",
        "    img = cv2.imread(os.path.join(path, filename))\n",
        "path = '/content/drive/MyDrive/Dataset/papillary_carcinoma/40X'\n",
        "for filename in os.listdir(path):\n",
        "    img = cv2.imread(os.path.join(path, filename))\n",
        "path = '/content/drive/MyDrive/Dataset/papillary_carcinoma/100X'\n",
        "for filename in os.listdir(path):\n",
        "    img = cv2.imread(os.path.join(path, filename))\n",
        "path = '/content/drive/MyDrive/Dataset/papillary_carcinoma/200X'\n",
        "for filename in os.listdir(path):\n",
        "    img = cv2.imread(os.path.join(path, filename))\n",
        "path = '/content/drive/MyDrive/Dataset/papillary_carcinoma/400X'\n",
        "for filename in os.listdir(path):\n",
        "    img = cv2.imread(os.path.join(path, filename))\n",
        "path = '/content/drive/MyDrive/Dataset/phyllodes_tumor/40X'\n",
        "for filename in os.listdir(path):\n",
        "    img = cv2.imread(os.path.join(path, filename))\n",
        "path = '/content/drive/MyDrive/Dataset/phyllodes_tumor/100X'\n",
        "for filename in os.listdir(path):\n",
        "    img = cv2.imread(os.path.join(path, filename))\n",
        "path = '/content/drive/MyDrive/Dataset/phyllodes_tumor/200X'\n",
        "for filename in os.listdir(path):\n",
        "    img = cv2.imread(os.path.join(path, filename))\n",
        "path = '/content/drive/MyDrive/Dataset/phyllodes_tumor/400X'\n",
        "for filename in os.listdir(path):\n",
        "    img = cv2.imread(os.path.join(path, filename))\n",
        "path = '/content/drive/MyDrive/Dataset/tubular_adenoma/40X'\n",
        "for filename in os.listdir(path):\n",
        "    img = cv2.imread(os.path.join(path, filename))\n",
        "path = '/content/drive/MyDrive/Dataset/tubular_adenoma/100X'\n",
        "for filename in os.listdir(path):\n",
        "    img = cv2.imread(os.path.join(path, filename))\n",
        "path = '/content/drive/MyDrive/Dataset/tubular_adenoma/200X'\n",
        "for filename in os.listdir(path):\n",
        "    img = cv2.imread(os.path.join(path, filename))\n",
        "path = '/content/drive/MyDrive/Dataset/tubular_adenoma/400X'\n",
        "for filename in os.listdir(path):\n",
        "    img = cv2.imread(os.path.join(path, filename))\n",
        "  "
      ],
      "metadata": {
        "id": "A2cYfMIsmsp8"
      },
      "execution_count": null,
      "outputs": []
    },
    {
      "cell_type": "code",
      "source": [
        "path = '/content/drive/MyDrive/Dataset/adenosis/'"
      ],
      "metadata": {
        "id": "eOnfU7VFlbWy"
      },
      "execution_count": null,
      "outputs": []
    },
    {
      "cell_type": "markdown",
      "source": [
        "Preprocessing\n",
        "IMAGE RESIZING"
      ],
      "metadata": {
        "id": "Sj6rm09nnOMA"
      }
    },
    {
      "cell_type": "code",
      "source": [
        "import os\n",
        "import cv2\n",
        "\n",
        "dataset_path = \"/content/drive/MyDrive/Dataset/adenosis\"\n",
        "\n",
        "# Define the target image size\n",
        "target_size = (256, 256)\n",
        "\n",
        "# Loop through the subfolders of the dataset\n",
        "for subfolder in [\"40X\",\"100X\",\"200X\",\"400X\"]:\n",
        "    subfolder_path = os.path.join(dataset_path, subfolder)\n",
        "    for filename in os.listdir(subfolder_path):\n",
        "        # Load the image\n",
        "        image = cv2.imread(os.path.join(subfolder_path, filename))\n",
        "\n",
        "        # Resize the image\n",
        "        image = cv2.resize(image, target_size)\n",
        "\n",
        "        # Save the preprocessed image\n",
        "        cv2.imwrite(os.path.join(subfolder_path, filename), image)\n",
        "\n"
      ],
      "metadata": {
        "id": "6JbB4cUaloLG"
      },
      "execution_count": null,
      "outputs": []
    },
    {
      "cell_type": "code",
      "source": [
        "dataset_path = \"/content/drive/MyDrive/Dataset/ductal_carcinoma\"\n",
        "\n",
        "# Define the target image size\n",
        "target_size = (256, 256)\n",
        "\n",
        "# Loop through the subfolders of the dataset\n",
        "for subfolder in [\"40X\",\"100X\",\"200X\",\"400X\"]:\n",
        "    subfolder_path = os.path.join(dataset_path, subfolder)\n",
        "    for filename in os.listdir(subfolder_path):\n",
        "        # Load the image\n",
        "        image = cv2.imread(os.path.join(subfolder_path, filename))\n",
        "\n",
        "        # Resize the image\n",
        "        image = cv2.resize(image, target_size)\n",
        "\n",
        "        # Save the preprocessed image\n",
        "        cv2.imwrite(os.path.join(subfolder_path, filename), image)"
      ],
      "metadata": {
        "id": "AOmcXlHwuAy-"
      },
      "execution_count": null,
      "outputs": []
    },
    {
      "cell_type": "code",
      "source": [
        "dataset_path = \"/content/drive/MyDrive/Dataset/fibroadenoma\"\n",
        "\n",
        "# Define the target image size\n",
        "target_size = (256, 256)\n",
        "\n",
        "# Loop through the subfolders of the dataset\n",
        "for subfolder in [\"40X\",\"100X\",\"200X\",\"400X\"]:\n",
        "    subfolder_path = os.path.join(dataset_path, subfolder)\n",
        "    for filename in os.listdir(subfolder_path):\n",
        "        # Load the image\n",
        "        image = cv2.imread(os.path.join(subfolder_path, filename))\n",
        "\n",
        "        # Resize the image\n",
        "        image = cv2.resize(image, target_size)\n",
        "\n",
        "        # Save the preprocessed image\n",
        "        cv2.imwrite(os.path.join(subfolder_path, filename), image)"
      ],
      "metadata": {
        "id": "kOIFQR6dvT64"
      },
      "execution_count": null,
      "outputs": []
    },
    {
      "cell_type": "code",
      "source": [
        "dataset_path = \"/content/drive/MyDrive/Dataset/fibroadenoma\"\n",
        "\n",
        "# Define the target image size\n",
        "target_size = (256, 256)\n",
        "\n",
        "# Loop through the subfolders of the dataset\n",
        "for subfolder in [\"40X\",\"100X\",\"200X\",\"400X\"]:\n",
        "    subfolder_path = os.path.join(dataset_path, subfolder)\n",
        "    for filename in os.listdir(subfolder_path):\n",
        "        # Load the image\n",
        "        image = cv2.imread(os.path.join(subfolder_path, filename))\n",
        "\n",
        "        # Resize the image\n",
        "        image = cv2.resize(image, target_size)\n",
        "\n",
        "        # Save the preprocessed image\n",
        "        cv2.imwrite(os.path.join(subfolder_path, filename), image)"
      ],
      "metadata": {
        "id": "8y8tSM2KQ5CU"
      },
      "execution_count": null,
      "outputs": []
    },
    {
      "cell_type": "code",
      "source": [
        "dataset_path = \"/content/drive/MyDrive/Dataset/lobular_carcinoma\"\n",
        "\n",
        "# Define the target image size\n",
        "target_size = (256, 256)\n",
        "\n",
        "# Loop through the subfolders of the dataset\n",
        "for subfolder in [\"40X\",\"100X\",\"200X\",\"400X\"]:\n",
        "    subfolder_path = os.path.join(dataset_path, subfolder)\n",
        "    for filename in os.listdir(subfolder_path):\n",
        "        # Load the image\n",
        "        image = cv2.imread(os.path.join(subfolder_path, filename))\n",
        "\n",
        "        # Resize the image\n",
        "        image = cv2.resize(image, target_size)\n",
        "\n",
        "        # Save the preprocessed image\n",
        "        cv2.imwrite(os.path.join(subfolder_path, filename), image)"
      ],
      "metadata": {
        "id": "dN0fIIUJdR9p"
      },
      "execution_count": null,
      "outputs": []
    },
    {
      "cell_type": "code",
      "source": [
        "dataset_path = \"/content/drive/MyDrive/Dataset/mucinous_carcinoma\"\n",
        "\n",
        "# Define the target image size\n",
        "target_size = (256, 256)\n",
        "\n",
        "# Loop through the subfolders of the dataset\n",
        "for subfolder in [\"40X\",\"100X\",\"200X\",\"400X\"]:\n",
        "    subfolder_path = os.path.join(dataset_path, subfolder)\n",
        "    for filename in os.listdir(subfolder_path):\n",
        "        # Load the image\n",
        "        image = cv2.imread(os.path.join(subfolder_path, filename))\n",
        "\n",
        "        # Resize the image\n",
        "        image = cv2.resize(image, target_size)\n",
        "\n",
        "        # Save the preprocessed image\n",
        "        cv2.imwrite(os.path.join(subfolder_path, filename), image)"
      ],
      "metadata": {
        "id": "piMx0GsadiwI"
      },
      "execution_count": null,
      "outputs": []
    }
  ]
}